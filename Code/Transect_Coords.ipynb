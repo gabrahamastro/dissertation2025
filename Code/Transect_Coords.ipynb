{
 "cells": [
  {
   "cell_type": "code",
   "execution_count": 1,
   "metadata": {},
   "outputs": [],
   "source": [
    "import numpy as np"
   ]
  },
  {
   "cell_type": "code",
   "execution_count": 2,
   "metadata": {},
   "outputs": [],
   "source": [
    "def ImportGraphCoords(array,graph_coords,px_coords):\n",
    "\n",
    "    to_convert = np.column_stack((array[:,1],array[:,2]))\n",
    "\n",
    "    A = np.vstack([px_coords.T, np.ones(px_coords.shape[0])]).T\n",
    "    B = graph_coords\n",
    "\n",
    "    transformation_matrix, _, _, _ = np.linalg.lstsq(A, B, rcond=None)\n",
    "\n",
    "    converted = np.vstack([to_convert.T, np.ones(to_convert.shape[0])]).T @ transformation_matrix\n",
    "\n",
    "    return converted"
   ]
  },
  {
   "cell_type": "code",
   "execution_count": 3,
   "metadata": {},
   "outputs": [],
   "source": [
    "##Defined using Ecosia chat, with the prompt\n",
    "\"\"\"\n",
    "I have a transect AA' which goes from one coordinate to another. \n",
    "I'd like to find the point on the transect (as a distance from A)\n",
    "which is closest to a point B (not lying on the transect but near). \n",
    "How do I do this in Python?\n",
    "\"\"\"\n",
    "\n",
    "def closest_on_transect(A, A_prime, B):\n",
    "    # Convert points to numpy arrays for easier calculations\n",
    "    A = np.array(A)\n",
    "    A_prime = np.array(A_prime)\n",
    "    B = np.array(B)\n",
    "    \n",
    "    # Vector AB (from A to B)\n",
    "    AB = B - A\n",
    "    # Vector AA' (from A to A')\n",
    "    AA_prime = A_prime - A\n",
    "    \n",
    "    # Project vector AB onto vector AA'\n",
    "    t = np.dot(AB, AA_prime) / np.dot(AA_prime, AA_prime)\n",
    "    \n",
    "    # Clamp t to the range [0, 1] to stay within the segment\n",
    "    t = max(0, min(1, t))\n",
    "    \n",
    "    # Calculate the closest point\n",
    "    closest_point = A + t * AA_prime\n",
    "    return closest_point"
   ]
  },
  {
   "cell_type": "code",
   "execution_count": 4,
   "metadata": {},
   "outputs": [],
   "source": [
    "# def distance_to_a(A1,A2,B):\n",
    "#     # Gradient\n",
    "#     x1 = A1[0]\n",
    "#     y1 = A1[1]\n",
    "#     x2 = A2[0]\n",
    "#     y2 = A2[1]\n",
    "#     By = B[1]\n",
    "\n",
    "#     m = (y2 - y1) / (x2 - x1)\n",
    "\n",
    "#     c = y1-m*x1\n",
    "\n",
    "#     xa = (By-c)/m\n",
    "\n",
    "#     distance = np.sqrt((x1-xa)**2+(y1-By)**2)\n",
    "\n",
    "    # return distance\n",
    "\n",
    "def distance_to_a(A1, A2, B):\n",
    "    distance = np.sqrt((A1[0]-B[0])**2+(A1[1]-B[1])**2)\n",
    "\n",
    "    return distance"
   ]
  },
  {
   "cell_type": "code",
   "execution_count": 5,
   "metadata": {},
   "outputs": [],
   "source": [
    "coords = np.loadtxt('Transect_coords.csv',delimiter=',')\n",
    "graph_coords = np.array([[18e4,76e4],[13e4,76e4],[18e4,72e4]])\n",
    "px_coords = np.array([[3419,124],[641,127],[3416,2354]])"
   ]
  },
  {
   "cell_type": "code",
   "execution_count": 6,
   "metadata": {},
   "outputs": [],
   "source": [
    "updated_coords = ImportGraphCoords(coords,graph_coords,px_coords)\n",
    "np.savetxt('Updated_Coords.csv',updated_coords,delimiter=',')"
   ]
  },
  {
   "cell_type": "code",
   "execution_count": 10,
   "metadata": {},
   "outputs": [],
   "source": [
    "# A to C1\n",
    "AC1_point = closest_on_transect(updated_coords[4],updated_coords[3],updated_coords[5])\n",
    "AC1_dist = distance_to_a(updated_coords[4],updated_coords[3],AC1_point)#0\n",
    "# A to C2\n",
    "AC2_point = closest_on_transect(updated_coords[4],updated_coords[3],updated_coords[6])\n",
    "AC2_dist = distance_to_a(updated_coords[4],updated_coords[3],AC2_point)#1\n",
    "# A to C3\n",
    "AC3_point = closest_on_transect(updated_coords[4],updated_coords[3],updated_coords[7])\n",
    "AC3_dist = distance_to_a(updated_coords[4],updated_coords[3],AC3_point)#2\n",
    "#####\n",
    "# P to C1\n",
    "PC1_point = closest_on_transect(updated_coords[2],updated_coords[1],updated_coords[5])\n",
    "PC1_dist = distance_to_a(updated_coords[2],updated_coords[1],PC1_point)#3\n",
    "# P to C2\n",
    "PC2_point = closest_on_transect(updated_coords[2],updated_coords[1],updated_coords[6])\n",
    "PC2_dist = distance_to_a(updated_coords[2],updated_coords[1],PC2_point)#4\n",
    "# P to C3\n",
    "PC3_point = closest_on_transect(updated_coords[2],updated_coords[1],updated_coords[7])\n",
    "PC3_dist = distance_to_a(updated_coords[2],updated_coords[1],PC3_point)#5\n",
    "#####\n",
    "# A to M1\n",
    "AM1_point = closest_on_transect(updated_coords[4],updated_coords[3],updated_coords[8])\n",
    "AM1_dist = distance_to_a(updated_coords[4],updated_coords[3],AM1_point)#6\n",
    "# A to M2\n",
    "AM2_point = closest_on_transect(updated_coords[4],updated_coords[3],updated_coords[9])\n",
    "AM2_dist = distance_to_a(updated_coords[4],updated_coords[3],AM2_point)#7\n",
    "# A to M3\n",
    "AM3_point = closest_on_transect(updated_coords[4],updated_coords[3],updated_coords[10])\n",
    "AM3_dist = distance_to_a(updated_coords[4],updated_coords[3],AM3_point)#8\n",
    "#####\n",
    "# P to M1\n",
    "PM1_point = closest_on_transect(updated_coords[2],updated_coords[1],updated_coords[11])\n",
    "PM1_dist = distance_to_a(updated_coords[2],updated_coords[1],PM1_point)#9\n",
    "# P to M2\n",
    "PM2_point = closest_on_transect(updated_coords[2],updated_coords[1],updated_coords[12])\n",
    "PM2_dist = distance_to_a(updated_coords[2],updated_coords[1],PM2_point)#10\n",
    "# P to M3\n",
    "PM3_point = closest_on_transect(updated_coords[2],updated_coords[1],updated_coords[13])\n",
    "PM3_dist = distance_to_a(updated_coords[2],updated_coords[1],PM3_point)#11\n",
    "#####\n",
    "# A to E1\n",
    "AE1_point = closest_on_transect(updated_coords[4],updated_coords[3],updated_coords[14])\n",
    "AE1_dist = distance_to_a(updated_coords[4],updated_coords[3],AE1_point)#12\n",
    "# A to E2\n",
    "AE2_point = closest_on_transect(updated_coords[4],updated_coords[3],updated_coords[15])\n",
    "AE2_dist = distance_to_a(updated_coords[4],updated_coords[3],AE2_point)#13\n",
    "#####\n",
    "# P to E1\n",
    "PE1_point = closest_on_transect(updated_coords[2],updated_coords[1],updated_coords[16])\n",
    "PE1_dist = distance_to_a(updated_coords[2],updated_coords[1],PE1_point)#14\n",
    "# P to E2\n",
    "PE2_point = closest_on_transect(updated_coords[2],updated_coords[1],updated_coords[17])\n",
    "PE2_dist = distance_to_a(updated_coords[2],updated_coords[1],PE2_point)#15"
   ]
  },
  {
   "cell_type": "code",
   "execution_count": 12,
   "metadata": {},
   "outputs": [],
   "source": [
    "dist = np.array((AC1_dist,AC2_dist,AC3_dist,PC1_dist,PC2_dist,PC3_dist,AM1_dist,AM2_dist,AM3_dist,PM1_dist,PM2_dist,PM3_dist,AE1_dist,AE2_dist,PE1_dist,PE2_dist))\n",
    "np.savetxt('dist.csv',dist,delimiter=',')"
   ]
  }
 ],
 "metadata": {
  "kernelspec": {
   "display_name": "hm",
   "language": "python",
   "name": "python3"
  },
  "language_info": {
   "codemirror_mode": {
    "name": "ipython",
    "version": 3
   },
   "file_extension": ".py",
   "mimetype": "text/x-python",
   "name": "python",
   "nbconvert_exporter": "python",
   "pygments_lexer": "ipython3",
   "version": "3.12.6"
  }
 },
 "nbformat": 4,
 "nbformat_minor": 2
}
